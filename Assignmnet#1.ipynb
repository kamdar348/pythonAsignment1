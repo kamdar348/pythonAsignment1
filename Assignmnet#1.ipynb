{
 "cells": [
  {
   "cell_type": "code",
   "execution_count": 8,
   "id": "974f6a4f",
   "metadata": {},
   "outputs": [
    {
     "name": "stdout",
     "output_type": "stream",
     "text": [
      "Twinkle, twinkle, little star,\n",
      "          How I wonder what you are!\n",
      "                  Up above world so high,\n",
      "                   Like a diamond in the sky,\n",
      "Twinkle, twinkle, little star,\n",
      "          How I wonder what you are!\n"
     ]
    }
   ],
   "source": [
    "#1. write a python program to print the following string in  specific format(see the out put),\n",
    "# Twinkle, twinkle, little star,\n",
    "#           How I wonder what you are!\n",
    "#                   Up above world so high,\n",
    "#                    Like a diamond in the sky,\n",
    "# Twinkle, twinkle, little star,\n",
    "#           How I wonder what you are\n",
    "\n",
    "print(\"Twinkle, twinkle, little star,\");\n",
    "print(\"          How I wonder what you are!\");\n",
    "print(\"                  Up above world so high,\");\n",
    "print(\"                   Like a diamond in the sky,\");\n",
    "print(\"Twinkle, twinkle, little star,\");\n",
    "print(\"          How I wonder what you are!\");"
   ]
  },
  {
   "cell_type": "code",
   "execution_count": 7,
   "id": "c01f1dd9",
   "metadata": {},
   "outputs": [
    {
     "name": "stdout",
     "output_type": "stream",
     "text": [
      "Python version\n",
      "3.9.7 (default, Sep 16 2021, 16:59:28) [MSC v.1916 64 bit (AMD64)]\n",
      "Version info.\n",
      "sys.version_info(major=3, minor=9, micro=7, releaselevel='final', serial=0)\n"
     ]
    }
   ],
   "source": [
    "#2. Write a python program to get the python version you are using\n",
    "import sys\n",
    "print(\"Python version\")\n",
    "print (sys.version)\n",
    "print(\"Version info.\")\n",
    "print (sys.version_info)"
   ]
  },
  {
   "cell_type": "code",
   "execution_count": 6,
   "id": "1ec99b0e",
   "metadata": {},
   "outputs": [
    {
     "name": "stdout",
     "output_type": "stream",
     "text": [
      "current date and time is:\n",
      "2021-12-29  12,58,27\n"
     ]
    }
   ],
   "source": [
    "#3. write a python program to display current date and time\n",
    "import datetime\n",
    "now = datetime.datetime.now()\n",
    "print(\"current date and time is:\");\n",
    "print(now.strftime(\"%Y-%m-%d  %H,%M,%S\"));"
   ]
  },
  {
   "cell_type": "code",
   "execution_count": 5,
   "id": "d9cc1eb7",
   "metadata": {},
   "outputs": [
    {
     "name": "stdout",
     "output_type": "stream",
     "text": [
      "Input the radius of the circle : 56\n",
      "The area of the circle with radius 56.0 is: 9852.03456165759\n"
     ]
    }
   ],
   "source": [
    "#  4. Write a Python program which accepts the radius of a circle from the user and compute the area.\n",
    "from math import pi\n",
    "r = float(input (\"Input the radius of the circle : \"))\n",
    "print (\"The area of the circle with radius \" + str(r) + \" is: \" + str(pi * r**2))"
   ]
  },
  {
   "cell_type": "code",
   "execution_count": 3,
   "id": "8e7e48b9",
   "metadata": {},
   "outputs": [
    {
     "name": "stdout",
     "output_type": "stream",
     "text": [
      "Input your First Name : Noman \n",
      "Input your Last Name : Arif\n",
      "Hello  Arif Noman \n"
     ]
    }
   ],
   "source": [
    "# 5. Write a Python program which accepts the user's first and last name and print them in reverse order with a space between them.\n",
    "fname = input(\"Input your First Name : \")\n",
    "lname = input(\"Input your Last Name : \")\n",
    "print (\"Hello  \" + lname + \" \" + fname)"
   ]
  },
  {
   "cell_type": "code",
   "execution_count": 2,
   "id": "0f662379",
   "metadata": {},
   "outputs": [
    {
     "name": "stdout",
     "output_type": "stream",
     "text": [
      "Enter number 1:5454\n",
      "Enter number 2:4654654\n",
      "5454 + 4654654 = 4660108\n"
     ]
    }
   ],
   "source": [
    "#6. write a python program which takes two input from user and print them in addotion\n",
    "sum1 = int(input(\"Enter number 1:\"));\n",
    "sum2 = int(input(\"Enter number 2:\"));\n",
    "result = sum1 + sum2;\n",
    "print (sum1, \"+\" ,sum2, \"=\", result,);"
   ]
  },
  {
   "cell_type": "code",
   "execution_count": null,
   "id": "47dab090",
   "metadata": {},
   "outputs": [],
   "source": []
  }
 ],
 "metadata": {
  "kernelspec": {
   "display_name": "Python 3 (ipykernel)",
   "language": "python",
   "name": "python3"
  },
  "language_info": {
   "codemirror_mode": {
    "name": "ipython",
    "version": 3
   },
   "file_extension": ".py",
   "mimetype": "text/x-python",
   "name": "python",
   "nbconvert_exporter": "python",
   "pygments_lexer": "ipython3",
   "version": "3.9.7"
  }
 },
 "nbformat": 4,
 "nbformat_minor": 5
}
